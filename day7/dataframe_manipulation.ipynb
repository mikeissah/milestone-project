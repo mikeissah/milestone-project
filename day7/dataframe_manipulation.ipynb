{
 "cells": [
  {
   "cell_type": "markdown",
   "metadata": {},
   "source": [
    "Project Milestone: Manipulate some randomly generated data in a pandas dataframe. Make sure you know how \n",
    "to select a specific column, how to set the dataframe index (and, in particular, how to make it a datetime \n",
    "index), and how to select ranges of rows by index."
   ]
  },
  {
   "cell_type": "code",
   "execution_count": 64,
   "metadata": {},
   "outputs": [],
   "source": [
    "import numpy as np\n",
    "import pandas as pd\n",
    "from datetime import datetime, timedelta"
   ]
  },
  {
   "cell_type": "code",
   "execution_count": 65,
   "metadata": {},
   "outputs": [
    {
     "name": "stdout",
     "output_type": "stream",
     "text": [
      "                    Datetime    A    B\n",
      "0 2019-01-05 22:57:48.806119   56   87\n",
      "1 2019-01-06 22:57:48.806119   82  137\n",
      "2 2019-01-07 22:57:48.806119  141  106\n",
      "3 2019-01-08 22:57:48.806119   21   62\n",
      "4 2019-01-09 22:57:48.806119  140   43\n",
      "5 2019-01-10 22:57:48.806119   15   77\n",
      "6 2019-01-11 22:57:48.806119    9  133\n",
      "7 2019-01-12 22:57:48.806119  141   78\n"
     ]
    }
   ],
   "source": [
    "# Create dataframe with datetime column and 2 randomly generated\n",
    "date_today = datetime.now()\n",
    "days = pd.date_range(date_today, date_today + timedelta(7), freq='D')\n",
    "\n",
    "np.random.seed(seed=1111)\n",
    "data = np.random.randint(1, high=150, size=len(days))\n",
    "data1 = np.random.randint(1, high=150, size=len(days))\n",
    "\n",
    "df = pd.DataFrame({'Datetime': days, 'A': data, 'B': data1})\n",
    "print(df)"
   ]
  },
  {
   "cell_type": "code",
   "execution_count": 59,
   "metadata": {},
   "outputs": [
    {
     "data": {
      "text/plain": [
       "0   2019-01-05 22:53:10.049668\n",
       "1   2019-01-06 22:53:10.049668\n",
       "2   2019-01-07 22:53:10.049668\n",
       "3   2019-01-08 22:53:10.049668\n",
       "4   2019-01-09 22:53:10.049668\n",
       "5   2019-01-10 22:53:10.049668\n",
       "6   2019-01-11 22:53:10.049668\n",
       "7   2019-01-12 22:53:10.049668\n",
       "Name: Date, dtype: datetime64[ns]"
      ]
     },
     "execution_count": 59,
     "metadata": {},
     "output_type": "execute_result"
    }
   ],
   "source": [
    "# Select a specific column\n",
    "df['A']"
   ]
  },
  {
   "cell_type": "code",
   "execution_count": 61,
   "metadata": {},
   "outputs": [],
   "source": [
    "# Set Datetime as index\n",
    "df = df.set_index('Date')"
   ]
  },
  {
   "cell_type": "code",
   "execution_count": 62,
   "metadata": {},
   "outputs": [
    {
     "data": {
      "text/html": [
       "<div>\n",
       "<style scoped>\n",
       "    .dataframe tbody tr th:only-of-type {\n",
       "        vertical-align: middle;\n",
       "    }\n",
       "\n",
       "    .dataframe tbody tr th {\n",
       "        vertical-align: top;\n",
       "    }\n",
       "\n",
       "    .dataframe thead th {\n",
       "        text-align: right;\n",
       "    }\n",
       "</style>\n",
       "<table border=\"1\" class=\"dataframe\">\n",
       "  <thead>\n",
       "    <tr style=\"text-align: right;\">\n",
       "      <th></th>\n",
       "      <th>A</th>\n",
       "      <th>B</th>\n",
       "    </tr>\n",
       "    <tr>\n",
       "      <th>Date</th>\n",
       "      <th></th>\n",
       "      <th></th>\n",
       "    </tr>\n",
       "  </thead>\n",
       "  <tbody>\n",
       "    <tr>\n",
       "      <th>2019-01-05 22:53:10.049668</th>\n",
       "      <td>29</td>\n",
       "      <td>21</td>\n",
       "    </tr>\n",
       "    <tr>\n",
       "      <th>2019-01-06 22:53:10.049668</th>\n",
       "      <td>56</td>\n",
       "      <td>12</td>\n",
       "    </tr>\n",
       "    <tr>\n",
       "      <th>2019-01-07 22:53:10.049668</th>\n",
       "      <td>82</td>\n",
       "      <td>15</td>\n",
       "    </tr>\n",
       "    <tr>\n",
       "      <th>2019-01-08 22:53:10.049668</th>\n",
       "      <td>13</td>\n",
       "      <td>9</td>\n",
       "    </tr>\n",
       "    <tr>\n",
       "      <th>2019-01-09 22:53:10.049668</th>\n",
       "      <td>35</td>\n",
       "      <td>13</td>\n",
       "    </tr>\n",
       "    <tr>\n",
       "      <th>2019-01-10 22:53:10.049668</th>\n",
       "      <td>53</td>\n",
       "      <td>87</td>\n",
       "    </tr>\n",
       "    <tr>\n",
       "      <th>2019-01-11 22:53:10.049668</th>\n",
       "      <td>25</td>\n",
       "      <td>9</td>\n",
       "    </tr>\n",
       "    <tr>\n",
       "      <th>2019-01-12 22:53:10.049668</th>\n",
       "      <td>23</td>\n",
       "      <td>63</td>\n",
       "    </tr>\n",
       "  </tbody>\n",
       "</table>\n",
       "</div>"
      ],
      "text/plain": [
       "                             A   B\n",
       "Date                              \n",
       "2019-01-05 22:53:10.049668  29  21\n",
       "2019-01-06 22:53:10.049668  56  12\n",
       "2019-01-07 22:53:10.049668  82  15\n",
       "2019-01-08 22:53:10.049668  13   9\n",
       "2019-01-09 22:53:10.049668  35  13\n",
       "2019-01-10 22:53:10.049668  53  87\n",
       "2019-01-11 22:53:10.049668  25   9\n",
       "2019-01-12 22:53:10.049668  23  63"
      ]
     },
     "execution_count": 62,
     "metadata": {},
     "output_type": "execute_result"
    }
   ],
   "source": [
    "df"
   ]
  },
  {
   "cell_type": "code",
   "execution_count": 63,
   "metadata": {},
   "outputs": [
    {
     "data": {
      "text/html": [
       "<div>\n",
       "<style scoped>\n",
       "    .dataframe tbody tr th:only-of-type {\n",
       "        vertical-align: middle;\n",
       "    }\n",
       "\n",
       "    .dataframe tbody tr th {\n",
       "        vertical-align: top;\n",
       "    }\n",
       "\n",
       "    .dataframe thead th {\n",
       "        text-align: right;\n",
       "    }\n",
       "</style>\n",
       "<table border=\"1\" class=\"dataframe\">\n",
       "  <thead>\n",
       "    <tr style=\"text-align: right;\">\n",
       "      <th></th>\n",
       "      <th>A</th>\n",
       "      <th>B</th>\n",
       "    </tr>\n",
       "    <tr>\n",
       "      <th>Date</th>\n",
       "      <th></th>\n",
       "      <th></th>\n",
       "    </tr>\n",
       "  </thead>\n",
       "  <tbody>\n",
       "    <tr>\n",
       "      <th>2019-01-07 22:53:10.049668</th>\n",
       "      <td>82</td>\n",
       "      <td>15</td>\n",
       "    </tr>\n",
       "    <tr>\n",
       "      <th>2019-01-08 22:53:10.049668</th>\n",
       "      <td>13</td>\n",
       "      <td>9</td>\n",
       "    </tr>\n",
       "    <tr>\n",
       "      <th>2019-01-09 22:53:10.049668</th>\n",
       "      <td>35</td>\n",
       "      <td>13</td>\n",
       "    </tr>\n",
       "    <tr>\n",
       "      <th>2019-01-10 22:53:10.049668</th>\n",
       "      <td>53</td>\n",
       "      <td>87</td>\n",
       "    </tr>\n",
       "  </tbody>\n",
       "</table>\n",
       "</div>"
      ],
      "text/plain": [
       "                             A   B\n",
       "Date                              \n",
       "2019-01-07 22:53:10.049668  82  15\n",
       "2019-01-08 22:53:10.049668  13   9\n",
       "2019-01-09 22:53:10.049668  35  13\n",
       "2019-01-10 22:53:10.049668  53  87"
      ]
     },
     "execution_count": 63,
     "metadata": {},
     "output_type": "execute_result"
    }
   ],
   "source": [
    "# Select rows between 2 datatime indexes\n",
    "df.loc['2019-01-07 03:00:00':'2019-01-10 23:00:00']"
   ]
  },
  {
   "cell_type": "code",
   "execution_count": null,
   "metadata": {},
   "outputs": [],
   "source": []
  }
 ],
 "metadata": {
  "kernelspec": {
   "display_name": "Python 3",
   "language": "python",
   "name": "python3"
  },
  "language_info": {
   "codemirror_mode": {
    "name": "ipython",
    "version": 3
   },
   "file_extension": ".py",
   "mimetype": "text/x-python",
   "name": "python",
   "nbconvert_exporter": "python",
   "pygments_lexer": "ipython3",
   "version": "3.7.1"
  }
 },
 "nbformat": 4,
 "nbformat_minor": 2
}
